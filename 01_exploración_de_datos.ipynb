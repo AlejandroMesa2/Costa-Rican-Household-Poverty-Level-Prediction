{
  "nbformat": 4,
  "nbformat_minor": 0,
  "metadata": {
    "colab": {
      "provenance": [],
      "mount_file_id": "1Sw2SytcQl4zdIngGTW_CnwAw14RYz6gU",
      "authorship_tag": "ABX9TyNeQbYkaxkF8hZYdcaL/4WB",
      "include_colab_link": true
    },
    "kernelspec": {
      "name": "python3",
      "display_name": "Python 3"
    },
    "language_info": {
      "name": "python"
    }
  },
  "cells": [
    {
      "cell_type": "markdown",
      "metadata": {
        "id": "view-in-github",
        "colab_type": "text"
      },
      "source": [
        "<a href=\"https://colab.research.google.com/github/AlejandroMesa2/Costa-Rican-Household-Poverty-Level-Prediction/blob/main/01_exploraci%C3%B3n_de_datos.ipynb\" target=\"_parent\"><img src=\"https://colab.research.google.com/assets/colab-badge.svg\" alt=\"Open In Colab\"/></a>"
      ]
    },
    {
      "cell_type": "code",
      "execution_count": null,
      "metadata": {
        "id": "cSZie88zPc4x"
      },
      "outputs": [],
      "source": []
    }
  ]
}